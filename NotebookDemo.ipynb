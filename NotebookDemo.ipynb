{
 "metadata": {
  "name": "",
  "signature": "sha256:42cca8aebaf03ef040da037bfe477a51dda2fb052aa176d80de836367a7514ad"
 },
 "nbformat": 3,
 "nbformat_minor": 0,
 "worksheets": [
  {
   "cells": [
    {
     "cell_type": "code",
     "collapsed": false,
     "input": [
      "import networkx as nx"
     ],
     "language": "python",
     "metadata": {},
     "outputs": [],
     "prompt_number": 1
    },
    {
     "cell_type": "code",
     "collapsed": false,
     "input": [
      "import nxsvg"
     ],
     "language": "python",
     "metadata": {},
     "outputs": [],
     "prompt_number": 2
    },
    {
     "cell_type": "code",
     "collapsed": false,
     "input": [
      "G = nx.DiGraph()\n",
      "G.add_cycle(range(4))\n",
      "G.add_node(0, stroke='red', fill='pink', position=(0, 0))\n",
      "G.add_node(1, rx=0, ry=0, position=(1, -1))\n",
      "G.add_node(2, rx=0, ry=0, position=(2, -1))\n",
      "G.add_node(3, rx=0, ry=0, position=(3, 0), fill='#00ffff', label=\"3\")\n",
      "G.add_edge(0, 1, stroke='red', stroke_dasharray='5 5')\n",
      "G.add_edge(3, 3, label='a')\n",
      "G"
     ],
     "language": "python",
     "metadata": {},
     "outputs": [
      {
       "metadata": {},
       "output_type": "pyout",
       "prompt_number": 5,
       "svg": [
        "<svg baseProfile=\"full\" height=\"600px\" preserveAspectRatio=\"xMidYMid meet\" version=\"1.1\" viewBox=\"-34.4609506499,-34.4609506499,758.140914298,758.140914298\" width=\"600px\" xmlns=\"http://www.w3.org/2000/svg\" xmlns:ev=\"http://www.w3.org/2001/xml-events\" xmlns:xlink=\"http://www.w3.org/1999/xlink\"><defs><marker id=\"id11\" markerHeight=\"20.0\" markerUnits=\"userSpaceOnUse\" markerWidth=\"20.0\" orient=\"auto\" refX=\"10.0\" refY=\"10.0\"><polygon fill=\"red\" points=\"0,4.0 20.0,10.0 0,16.0\" stroke=\"none\" /></marker><marker id=\"id12\" markerHeight=\"20.0\" markerUnits=\"userSpaceOnUse\" markerWidth=\"20.0\" orient=\"auto\" refX=\"10.0\" refY=\"10.0\"><polygon fill=\"black\" points=\"0,4.0 20.0,10.0 0,16.0\" stroke=\"none\" /></marker><marker id=\"id13\" markerHeight=\"20.0\" markerUnits=\"userSpaceOnUse\" markerWidth=\"20.0\" orient=\"auto\" refX=\"10.0\" refY=\"10.0\"><polygon fill=\"black\" points=\"0,4.0 20.0,10.0 0,16.0\" stroke=\"none\" /></marker><marker id=\"id14\" markerHeight=\"20.0\" markerUnits=\"userSpaceOnUse\" markerWidth=\"20.0\" orient=\"auto\" refX=\"10.0\" refY=\"10.0\"><polygon fill=\"black\" points=\"0,4.0 20.0,10.0 0,16.0\" stroke=\"none\" /></marker><marker id=\"id15\" markerHeight=\"20.0\" markerUnits=\"userSpaceOnUse\" markerWidth=\"20.0\" orient=\"auto\" refX=\"10.0\" refY=\"10.0\"><polygon fill=\"black\" points=\"0,4.0 20.0,10.0 0,16.0\" stroke=\"none\" /></marker></defs><g><rect fill=\"pink\" height=\"45.0\" rx=\"20.0\" ry=\"20.0\" stroke=\"red\" stroke-width=\"1px\" width=\"30.0\" x=\"34.4609506499\" y=\"609.758062348\" /><rect fill=\"none\" height=\"45.0\" stroke=\"black\" stroke-width=\"1px\" width=\"30.0\" x=\"214.739670999\" y=\"34.4609506499\" /><rect fill=\"none\" height=\"45.0\" stroke=\"black\" stroke-width=\"1px\" width=\"30.0\" x=\"444.479341999\" y=\"34.4609506499\" /><rect fill=\"#00ffff\" height=\"45.0\" stroke=\"black\" stroke-width=\"1px\" width=\"30.0\" x=\"624.758062348\" y=\"609.758062348\" /></g><g><path d=\"M 49.4609506499 609.758062348 Q 94.5306307373 477.183784424 139.600310825 344.609506499 Q 184.669990912 212.035228575 229.739670999 79.4609506499\" fill=\"none\" marker-mid=\"url(#id11)\" stroke=\"red\" stroke-dasharray=\"5 5\" stroke-linecap=\"butt\" stroke-width=\"1px\" /><path d=\"M 244.739670999 56.9609506499 Q 294.674588749 56.9609506499 344.609506499 56.9609506499 Q 394.544424249 56.9609506499 444.479341999 56.9609506499\" fill=\"none\" marker-mid=\"url(#id12)\" stroke=\"black\" stroke-linecap=\"butt\" stroke-width=\"1px\" /><path d=\"M 459.479341999 79.4609506499 Q 504.549022086 212.035228575 549.618702174 344.609506499 Q 594.688382261 477.183784424 639.758062348 609.758062348\" fill=\"none\" marker-mid=\"url(#id13)\" stroke=\"black\" stroke-linecap=\"butt\" stroke-width=\"1px\" /><path d=\"M 624.758062348 632.258062348 Q 484.683784424 632.258062348 344.609506499 632.258062348 Q 204.535228575 632.258062348 64.4609506499 632.258062348\" fill=\"none\" marker-mid=\"url(#id14)\" stroke=\"black\" stroke-linecap=\"butt\" stroke-width=\"1px\" /><path d=\"M 639.758062348 654.758062348 Q 569.444038801 693.509078046 565.694038801 687.884078046 Q 561.944038801 682.259078046 624.758062348 632.258062348\" fill=\"none\" marker-mid=\"url(#id15)\" stroke=\"black\" stroke-linecap=\"butt\" stroke-width=\"1px\" /></g><g><text font-family=\"monospace\" font-size=\"20.0\" text-anchor=\"middle\" transform=\"rotate(108.775873693,139.600310825,344.609506499) translate(0,-10.0)\" x=\"139.600310825\" y=\"344.609506499\"><tspan font-family=\"monospace\" font-size=\"20.0\" font-weight=\"normal\" text-anchor=\"middle\" x=\"139.600310825\" y=\"344.609506499\"> </tspan></text><text font-family=\"monospace\" font-size=\"20.0\" text-anchor=\"middle\" transform=\"rotate(180.0,344.609506499,56.9609506499) translate(0,-10.0)\" x=\"344.609506499\" y=\"56.9609506499\"><tspan font-family=\"monospace\" font-size=\"20.0\" font-weight=\"normal\" text-anchor=\"middle\" x=\"344.609506499\" y=\"56.9609506499\"> </tspan></text><text font-family=\"monospace\" font-size=\"20.0\" text-anchor=\"middle\" transform=\"rotate(251.224126307,549.618702174,344.609506499) translate(0,-10.0)\" x=\"549.618702174\" y=\"344.609506499\"><tspan font-family=\"monospace\" font-size=\"20.0\" font-weight=\"normal\" text-anchor=\"middle\" x=\"549.618702174\" y=\"344.609506499\"> </tspan></text><text font-family=\"monospace\" font-size=\"20.0\" text-anchor=\"middle\" transform=\"rotate(360.0,344.609506499,632.258062348) translate(0,-10.0)\" x=\"344.609506499\" y=\"632.258062348\"><tspan font-family=\"monospace\" font-size=\"20.0\" font-weight=\"normal\" text-anchor=\"middle\" x=\"344.609506499\" y=\"632.258062348\"> </tspan></text><text font-family=\"monospace\" font-size=\"20.0\" text-anchor=\"middle\" transform=\"rotate(56.309932474,565.694038801,687.884078046) translate(0,-10.0)\" x=\"565.694038801\" y=\"687.884078046\"><tspan font-family=\"monospace\" font-size=\"20.0\" font-weight=\"normal\" text-anchor=\"middle\" x=\"565.694038801\" y=\"687.884078046\">a</tspan></text><text font-family=\"monospace\" font-size=\"20.0\" text-anchor=\"middle\" transform=\"translate(0,-10.0)\" x=\"49.4609506499\" y=\"649.758062348\"><tspan font-family=\"monospace\" font-size=\"20.0\" font-weight=\"normal\" text-anchor=\"middle\" x=\"49.4609506499\" y=\"649.758062348\">0</tspan></text><text font-family=\"monospace\" font-size=\"20.0\" text-anchor=\"middle\" transform=\"translate(0,-10.0)\" x=\"229.739670999\" y=\"74.4609506499\"><tspan font-family=\"monospace\" font-size=\"20.0\" font-weight=\"normal\" text-anchor=\"middle\" x=\"229.739670999\" y=\"74.4609506499\">1</tspan></text><text font-family=\"monospace\" font-size=\"20.0\" text-anchor=\"middle\" transform=\"translate(0,-10.0)\" x=\"459.479341999\" y=\"74.4609506499\"><tspan font-family=\"monospace\" font-size=\"20.0\" font-weight=\"normal\" text-anchor=\"middle\" x=\"459.479341999\" y=\"74.4609506499\">2</tspan></text><text font-family=\"monospace\" font-size=\"20.0\" text-anchor=\"middle\" transform=\"translate(0,-10.0)\" x=\"639.758062348\" y=\"649.758062348\"><tspan font-family=\"monospace\" font-size=\"20.0\" font-weight=\"normal\" text-anchor=\"middle\" x=\"639.758062348\" y=\"649.758062348\">3</tspan></text></g></svg>"
       ],
       "text": [
        "<networkx.classes.digraph.DiGraph at 0x7f422ee33d50>"
       ]
      }
     ],
     "prompt_number": 5
    },
    {
     "cell_type": "code",
     "collapsed": false,
     "input": [],
     "language": "python",
     "metadata": {},
     "outputs": [],
     "prompt_number": 3
    }
   ],
   "metadata": {}
  }
 ]
}