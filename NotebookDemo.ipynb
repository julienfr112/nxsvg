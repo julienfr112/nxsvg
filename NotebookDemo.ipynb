{
 "metadata": {
  "name": "",
  "signature": "sha256:346dee062147bf6897a2ea859f5bb87b5f4a863e4338376746c5f9172c69fb73"
 },
 "nbformat": 3,
 "nbformat_minor": 0,
 "worksheets": [
  {
   "cells": [
    {
     "cell_type": "code",
     "collapsed": false,
     "input": [
      "import networkx"
     ],
     "language": "python",
     "metadata": {},
     "outputs": [],
     "prompt_number": 1
    },
    {
     "cell_type": "code",
     "collapsed": false,
     "input": [
      "import nxsvg"
     ],
     "language": "python",
     "metadata": {},
     "outputs": [],
     "prompt_number": 2
    },
    {
     "cell_type": "code",
     "collapsed": false,
     "input": [
      "g = networkx.complete_graph(4)"
     ],
     "language": "python",
     "metadata": {},
     "outputs": [],
     "prompt_number": 3
    },
    {
     "cell_type": "code",
     "collapsed": false,
     "input": [
      "g"
     ],
     "language": "python",
     "metadata": {},
     "outputs": [
      {
       "metadata": {},
       "output_type": "pyout",
       "prompt_number": 4,
       "svg": [
        "<svg baseProfile=\"full\" height=\"600px\" preserveAspectRatio=\"xMidYMid meet\" version=\"1.1\" viewBox=\"0,0,689.219012998,689.219012998\" width=\"600px\" xmlns=\"http://www.w3.org/2000/svg\" xmlns:ev=\"http://www.w3.org/2001/xml-events\" xmlns:xlink=\"http://www.w3.org/1999/xlink\"><defs /><g><rect fill=\"none\" height=\"60.0\" rx=\"20.0\" ry=\"20.0\" stroke=\"black\" stroke-width=\"1px\" width=\"160.0\" x=\"494.758062348\" y=\"344.609506499\" /><text font-family=\"monospace\" font-size=\"20.0\" text-anchor=\"middle\" transform=\"translate(0,-10.0)\" x=\"574.758062348\" y=\"374.609506499\"><tspan font-family=\"monospace\" font-size=\"20.0\" font-weight=\"bold\" text-anchor=\"middle\" x=\"574.758062348\" y=\"374.609506499\">Node[0]</tspan><tspan font-family=\"monospace\" font-size=\"20.0\" font-weight=\"normal\" text-anchor=\"middle\" x=\"574.758062348\" y=\"404.609506499\">{}</tspan></text></g><g><rect fill=\"none\" height=\"60.0\" rx=\"20.0\" ry=\"20.0\" stroke=\"black\" stroke-width=\"1px\" width=\"160.0\" x=\"344.609485959\" y=\"594.758062348\" /><text font-family=\"monospace\" font-size=\"20.0\" text-anchor=\"middle\" transform=\"translate(0,-10.0)\" x=\"424.609485959\" y=\"624.758062348\"><tspan font-family=\"monospace\" font-size=\"20.0\" font-weight=\"bold\" text-anchor=\"middle\" x=\"424.609485959\" y=\"624.758062348\">Node[1]</tspan><tspan font-family=\"monospace\" font-size=\"20.0\" font-weight=\"normal\" text-anchor=\"middle\" x=\"424.609485959\" y=\"654.758062348\">{}</tspan></text></g><g><rect fill=\"none\" height=\"60.0\" rx=\"20.0\" ry=\"20.0\" stroke=\"black\" stroke-width=\"1px\" width=\"160.0\" x=\"34.4609506499\" y=\"344.609485959\" /><text font-family=\"monospace\" font-size=\"20.0\" text-anchor=\"middle\" transform=\"translate(0,-10.0)\" x=\"114.46095065\" y=\"374.609485959\"><tspan font-family=\"monospace\" font-size=\"20.0\" font-weight=\"bold\" text-anchor=\"middle\" x=\"114.46095065\" y=\"374.609485959\">Node[2]</tspan><tspan font-family=\"monospace\" font-size=\"20.0\" font-weight=\"normal\" text-anchor=\"middle\" x=\"114.46095065\" y=\"404.609485959\">{}</tspan></text></g><g><rect fill=\"none\" height=\"60.0\" rx=\"20.0\" ry=\"20.0\" stroke=\"black\" stroke-width=\"1px\" width=\"160.0\" x=\"344.609506499\" y=\"34.4609506499\" /><text font-family=\"monospace\" font-size=\"20.0\" text-anchor=\"middle\" transform=\"translate(0,-10.0)\" x=\"424.609506499\" y=\"64.4609506499\"><tspan font-family=\"monospace\" font-size=\"20.0\" font-weight=\"bold\" text-anchor=\"middle\" x=\"424.609506499\" y=\"64.4609506499\">Node[3]</tspan><tspan font-family=\"monospace\" font-size=\"20.0\" font-weight=\"normal\" text-anchor=\"middle\" x=\"424.609506499\" y=\"94.4609506499\">{}</tspan></text></g><g><path d=\"M 574.758062348 404.609506499 Q 557.220918251 459.646645461 539.683774154 514.683784424 Q 522.146630056 569.720923386 504.609485959 624.758062348\" fill=\"none\" stroke=\"black\" stroke-linecap=\"butt\" stroke-width=\"1px\" /><text font-family=\"monospace\" font-size=\"20.0\" text-anchor=\"middle\" transform=\"rotate(287.674063637,539.683774154,514.683784424) translate(0,-10.0)\" x=\"539.683774154\" y=\"514.683784424\"><tspan font-family=\"monospace\" font-size=\"20.0\" font-weight=\"normal\" text-anchor=\"middle\" x=\"539.683774154\" y=\"514.683784424\">Edge[0, 1]:{}</tspan></text></g><g><path d=\"M 494.758062348 374.609506499 Q 419.683784424 374.609501364 344.609506499 374.609496229 Q 269.535228575 374.609491094 194.46095065 374.609485959\" fill=\"none\" stroke=\"black\" stroke-linecap=\"butt\" stroke-width=\"1px\" /><text font-family=\"monospace\" font-size=\"20.0\" text-anchor=\"middle\" transform=\"rotate(3.91903222408e-06,344.609506499,374.609496229) translate(0,-10.0)\" x=\"344.609506499\" y=\"374.609496229\"><tspan font-family=\"monospace\" font-size=\"20.0\" font-weight=\"normal\" text-anchor=\"middle\" x=\"344.609506499\" y=\"374.609496229\">Edge[0, 2]:{}</tspan></text></g><g><path d=\"M 574.758062348 344.609506499 Q 537.220923386 282.072367537 499.683784424 219.535228575 Q 462.146645461 156.998089612 424.609506499 94.4609506499\" fill=\"none\" stroke=\"black\" stroke-linecap=\"butt\" stroke-width=\"1px\" /><text font-family=\"monospace\" font-size=\"20.0\" text-anchor=\"middle\" transform=\"rotate(59.0262367892,499.683784424,219.535228575) translate(0,-10.0)\" x=\"499.683784424\" y=\"219.535228575\"><tspan font-family=\"monospace\" font-size=\"20.0\" font-weight=\"normal\" text-anchor=\"middle\" x=\"499.683784424\" y=\"219.535228575\">Edge[0, 3]:{}</tspan></text></g><g><path d=\"M 344.609485959 624.758062348 Q 307.072352132 562.220918251 269.535218304 499.683774154 Q 231.998084477 437.146630056 194.46095065 374.609485959\" fill=\"none\" stroke=\"black\" stroke-linecap=\"butt\" stroke-width=\"1px\" /><text font-family=\"monospace\" font-size=\"20.0\" text-anchor=\"middle\" transform=\"rotate(59.0262423238,269.535218304,499.683774154) translate(0,-10.0)\" x=\"269.535218304\" y=\"499.683774154\"><tspan font-family=\"monospace\" font-size=\"20.0\" font-weight=\"normal\" text-anchor=\"middle\" x=\"269.535218304\" y=\"499.683774154\">Edge[1, 2]:{}</tspan></text></g><g><path d=\"M 424.609485959 594.758062348 Q 424.609491094 469.683784424 424.609496229 344.609506499 Q 424.609501364 219.535228575 424.609506499 94.4609506499\" fill=\"none\" stroke=\"black\" stroke-linecap=\"butt\" stroke-width=\"1px\" /><text font-family=\"monospace\" font-size=\"20.0\" text-anchor=\"middle\" transform=\"rotate(90.0000023524,424.609496229,344.609506499) translate(0,-10.0)\" x=\"424.609496229\" y=\"344.609506499\"><tspan font-family=\"monospace\" font-size=\"20.0\" font-weight=\"normal\" text-anchor=\"middle\" x=\"424.609496229\" y=\"344.609506499\">Edge[1, 3]:{}</tspan></text></g><g><path d=\"M 194.46095065 374.609485959 Q 251.998089612 304.572352132 309.535228575 234.535218304 Q 367.072367537 164.498084477 424.609506499 94.4609506499\" fill=\"none\" stroke=\"black\" stroke-linecap=\"butt\" stroke-width=\"1px\" /><text font-family=\"monospace\" font-size=\"20.0\" text-anchor=\"middle\" transform=\"rotate(129.403902143,309.535228575,234.535218304) translate(0,-10.0)\" x=\"309.535228575\" y=\"234.535218304\"><tspan font-family=\"monospace\" font-size=\"20.0\" font-weight=\"normal\" text-anchor=\"middle\" x=\"309.535228575\" y=\"234.535218304\">Edge[2, 3]:{}</tspan></text></g></svg>"
       ],
       "text": [
        "<networkx.classes.graph.Graph at 0x4327990>"
       ]
      }
     ],
     "prompt_number": 4
    },
    {
     "cell_type": "code",
     "collapsed": false,
     "input": [],
     "language": "python",
     "metadata": {},
     "outputs": [],
     "prompt_number": 4
    }
   ],
   "metadata": {}
  }
 ]
}