{
 "metadata": {
  "name": "",
  "signature": "sha256:df84942d516975dba4e02c497ad04003e41f439daa06457de99266ec432f4560"
 },
 "nbformat": 3,
 "nbformat_minor": 0,
 "worksheets": [
  {
   "cells": [
    {
     "cell_type": "code",
     "collapsed": false,
     "input": [
      "import networkx as nx"
     ],
     "language": "python",
     "metadata": {},
     "outputs": [],
     "prompt_number": 1
    },
    {
     "cell_type": "code",
     "collapsed": false,
     "input": [
      "import nxsvg"
     ],
     "language": "python",
     "metadata": {},
     "outputs": [],
     "prompt_number": 2
    },
    {
     "cell_type": "code",
     "collapsed": false,
     "input": [
      "G = nx.DiGraph()\n",
      "G.add_cycle(range(4))\n",
      "G.add_node(0, rx=0, ry=0, stroke='red', fill='pink', position=(0, 0))\n",
      "G.add_node(1, rx=0, ry=0, position=(1, 1))\n",
      "G.add_node(2, rx=0, ry=0, position=(2, 1))\n",
      "G.add_node(3, rx=0, ry=0, position=(3, 0), fill='#00ffff', label=\"30\\n\")\n",
      "G.add_edge(0, 1, stroke='red', stroke_dasharray='5 5')\n",
      "G.add_edge(3, 3, label='a')\n",
      "G"
     ],
     "language": "python",
     "metadata": {},
     "outputs": [
      {
       "metadata": {},
       "output_type": "pyout",
       "prompt_number": 3,
       "svg": [
        "<svg baseProfile=\"full\" height=\"600px\" preserveAspectRatio=\"xMidYMid meet\" version=\"1.1\" viewBox=\"-34.4609506499,-34.4609506499,758.140914298,758.140914298\" width=\"600px\" xmlns=\"http://www.w3.org/2000/svg\" xmlns:ev=\"http://www.w3.org/2001/xml-events\" xmlns:xlink=\"http://www.w3.org/1999/xlink\"><defs><marker id=\"id1\" markerHeight=\"20.0\" markerUnits=\"userSpaceOnUse\" markerWidth=\"20.0\" orient=\"auto\" refX=\"10.0\" refY=\"10.0\"><polygon fill=\"red\" points=\"0,4.0 20.0,10.0 0,16.0\" stroke=\"none\" /></marker><marker id=\"id2\" markerHeight=\"20.0\" markerUnits=\"userSpaceOnUse\" markerWidth=\"20.0\" orient=\"auto\" refX=\"10.0\" refY=\"10.0\"><polygon fill=\"black\" points=\"0,4.0 20.0,10.0 0,16.0\" stroke=\"none\" /></marker><marker id=\"id3\" markerHeight=\"20.0\" markerUnits=\"userSpaceOnUse\" markerWidth=\"20.0\" orient=\"auto\" refX=\"10.0\" refY=\"10.0\"><polygon fill=\"black\" points=\"0,4.0 20.0,10.0 0,16.0\" stroke=\"none\" /></marker><marker id=\"id4\" markerHeight=\"20.0\" markerUnits=\"userSpaceOnUse\" markerWidth=\"20.0\" orient=\"auto\" refX=\"10.0\" refY=\"10.0\"><polygon fill=\"black\" points=\"0,4.0 20.0,10.0 0,16.0\" stroke=\"none\" /></marker><marker id=\"id5\" markerHeight=\"20.0\" markerUnits=\"userSpaceOnUse\" markerWidth=\"20.0\" orient=\"auto\" refX=\"10.0\" refY=\"10.0\"><polygon fill=\"black\" points=\"0,4.0 20.0,10.0 0,16.0\" stroke=\"none\" /></marker></defs><g><rect fill=\"pink\" height=\"30.0\" stroke=\"red\" stroke-width=\"1px\" width=\"20.0\" x=\"34.4609506499\" y=\"34.4609506499\" /><rect fill=\"none\" height=\"30.0\" stroke=\"black\" stroke-width=\"1px\" width=\"20.0\" x=\"219.739670999\" y=\"624.758062348\" /><rect fill=\"none\" height=\"30.0\" stroke=\"black\" stroke-width=\"1px\" width=\"20.0\" x=\"449.479341999\" y=\"624.758062348\" /><rect fill=\"#00ffff\" height=\"30.0\" stroke=\"black\" stroke-width=\"1px\" width=\"160.0\" x=\"494.758062348\" y=\"34.4609506499\" /></g><g><path d=\"M 44.4609506499 64.4609506499 Q 90.7806307373 204.535228575 137.100310825 344.609506499 Q 183.419990912 484.683784424 229.739670999 624.758062348\" fill=\"none\" marker-mid=\"url(#id1)\" stroke=\"red\" stroke-dasharray=\"5 5\" stroke-linecap=\"butt\" stroke-width=\"1px\" /><path d=\"M 239.739670999 639.758062348 Q 292.174588749 639.758062348 344.609506499 639.758062348 Q 397.044424249 639.758062348 449.479341999 639.758062348\" fill=\"none\" marker-mid=\"url(#id2)\" stroke=\"black\" stroke-linecap=\"butt\" stroke-width=\"1px\" /><path d=\"M 459.479341999 624.758062348 Q 488.299022086 484.683784424 517.118702174 344.609506499 Q 545.938382261 204.535228575 574.758062348 64.4609506499\" fill=\"none\" marker-mid=\"url(#id3)\" stroke=\"black\" stroke-linecap=\"butt\" stroke-width=\"1px\" /><path d=\"M 494.758062348 49.4609506499 Q 384.683784424 49.4609506499 274.609506499 49.4609506499 Q 164.535228575 49.4609506499 54.4609506499 49.4609506499\" fill=\"none\" marker-mid=\"url(#id4)\" stroke=\"black\" stroke-linecap=\"butt\" stroke-width=\"1px\" /><path d=\"M 574.758062348 64.4609506499 Q 540.014979544 139.340725605 520.014979544 135.590725605 Q 500.014979544 131.840725605 494.758062348 49.4609506499\" fill=\"none\" marker-mid=\"url(#id5)\" stroke=\"black\" stroke-linecap=\"butt\" stroke-width=\"1px\" /></g><g><text font-family=\"monospace\" font-size=\"20.0\" text-anchor=\"middle\" transform=\"rotate(251.702012521,137.100310825,344.609506499) translate(0,-10.0)\" x=\"137.100310825\" y=\"344.609506499\"><tspan font-family=\"monospace\" font-size=\"20.0\" font-weight=\"normal\" text-anchor=\"middle\" x=\"137.100310825\" y=\"344.609506499\"> </tspan></text><text font-family=\"monospace\" font-size=\"20.0\" text-anchor=\"middle\" transform=\"rotate(180.0,344.609506499,639.758062348) translate(0,-10.0)\" x=\"344.609506499\" y=\"639.758062348\"><tspan font-family=\"monospace\" font-size=\"20.0\" font-weight=\"normal\" text-anchor=\"middle\" x=\"344.609506499\" y=\"639.758062348\"> </tspan></text><text font-family=\"monospace\" font-size=\"20.0\" text-anchor=\"middle\" transform=\"rotate(101.626122435,517.118702174,344.609506499) translate(0,-10.0)\" x=\"517.118702174\" y=\"344.609506499\"><tspan font-family=\"monospace\" font-size=\"20.0\" font-weight=\"normal\" text-anchor=\"middle\" x=\"517.118702174\" y=\"344.609506499\"> </tspan></text><text font-family=\"monospace\" font-size=\"20.0\" text-anchor=\"middle\" transform=\"rotate(360.0,274.609506499,49.4609506499) translate(0,-10.0)\" x=\"274.609506499\" y=\"49.4609506499\"><tspan font-family=\"monospace\" font-size=\"20.0\" font-weight=\"normal\" text-anchor=\"middle\" x=\"274.609506499\" y=\"49.4609506499\"> </tspan></text><text font-family=\"monospace\" font-size=\"20.0\" text-anchor=\"middle\" transform=\"rotate(10.6196552762,520.014979544,135.590725605) translate(0,-10.0)\" x=\"520.014979544\" y=\"135.590725605\"><tspan font-family=\"monospace\" font-size=\"20.0\" font-weight=\"normal\" text-anchor=\"middle\" x=\"520.014979544\" y=\"135.590725605\">a</tspan></text><text font-family=\"monospace\" font-size=\"20.0\" text-anchor=\"middle\" transform=\"translate(0,-10.0)\" x=\"44.4609506499\" y=\"64.4609506499\"><tspan font-family=\"monospace\" font-size=\"20.0\" font-weight=\"normal\" text-anchor=\"middle\" x=\"44.4609506499\" y=\"64.4609506499\">0</tspan></text><text font-family=\"monospace\" font-size=\"20.0\" text-anchor=\"middle\" transform=\"translate(0,-10.0)\" x=\"229.739670999\" y=\"654.758062348\"><tspan font-family=\"monospace\" font-size=\"20.0\" font-weight=\"normal\" text-anchor=\"middle\" x=\"229.739670999\" y=\"654.758062348\">1</tspan></text><text font-family=\"monospace\" font-size=\"20.0\" text-anchor=\"middle\" transform=\"translate(0,-10.0)\" x=\"459.479341999\" y=\"654.758062348\"><tspan font-family=\"monospace\" font-size=\"20.0\" font-weight=\"normal\" text-anchor=\"middle\" x=\"459.479341999\" y=\"654.758062348\">2</tspan></text><text font-family=\"monospace\" font-size=\"20.0\" text-anchor=\"middle\" transform=\"translate(0,-10.0)\" x=\"574.758062348\" y=\"64.4609506499\"><tspan font-family=\"monospace\" font-size=\"20.0\" font-weight=\"normal\" text-anchor=\"middle\" x=\"574.758062348\" y=\"64.4609506499\">93bcafae</tspan></text></g></svg>"
       ],
       "text": [
        "<networkx.classes.digraph.DiGraph at 0x7fee58659d50>"
       ]
      }
     ],
     "prompt_number": 3
    },
    {
     "cell_type": "code",
     "collapsed": false,
     "input": [],
     "language": "python",
     "metadata": {},
     "outputs": [],
     "prompt_number": 3
    }
   ],
   "metadata": {}
  }
 ]
}