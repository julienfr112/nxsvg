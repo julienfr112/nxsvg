{
 "metadata": {
  "name": "",
  "signature": "sha256:bec751b4e234ca8db1a0360c54e4406040385fd70e6c35b7e7d455b3070913e8"
 },
 "nbformat": 3,
 "nbformat_minor": 0,
 "worksheets": [
  {
   "cells": [
    {
     "cell_type": "code",
     "collapsed": false,
     "input": [
      "import networkx"
     ],
     "language": "python",
     "metadata": {},
     "outputs": [],
     "prompt_number": 1
    },
    {
     "cell_type": "code",
     "collapsed": false,
     "input": [
      "import nxsvg"
     ],
     "language": "python",
     "metadata": {},
     "outputs": [],
     "prompt_number": 2
    },
    {
     "cell_type": "code",
     "collapsed": false,
     "input": [
      "g = networkx.complete_graph(4)\n",
      "g = networkx.star_graph(4)"
     ],
     "language": "python",
     "metadata": {},
     "outputs": [],
     "prompt_number": 29
    },
    {
     "cell_type": "code",
     "collapsed": false,
     "input": [
      "g"
     ],
     "language": "python",
     "metadata": {},
     "outputs": [
      {
       "metadata": {},
       "output_type": "pyout",
       "prompt_number": 30,
       "svg": [
        "<svg baseProfile=\"full\" height=\"600px\" preserveAspectRatio=\"xMidYMid meet\" version=\"1.1\" viewBox=\"0,0,787.958341321,787.958341321\" width=\"600px\" xmlns=\"http://www.w3.org/2000/svg\" xmlns:ev=\"http://www.w3.org/2001/xml-events\" xmlns:xlink=\"http://www.w3.org/1999/xlink\"><defs /><g><rect fill=\"none\" height=\"60.0\" rx=\"20.0\" ry=\"20.0\" stroke=\"black\" stroke-width=\"1px\" width=\"160.0\" x=\"588.560424255\" y=\"393.979170661\" /><text font-family=\"monospace\" font-size=\"20.0\" text-anchor=\"middle\" transform=\"translate(0,-10.0)\" x=\"668.560424255\" y=\"423.979170661\"><tspan font-family=\"monospace\" font-size=\"20.0\" font-weight=\"bold\" text-anchor=\"middle\" x=\"668.560424255\" y=\"423.979170661\">Node[0]</tspan><tspan font-family=\"monospace\" font-size=\"20.0\" font-weight=\"normal\" text-anchor=\"middle\" x=\"668.560424255\" y=\"453.979170661\">{}</tspan></text></g><g><rect fill=\"none\" height=\"60.0\" rx=\"20.0\" ry=\"20.0\" stroke=\"black\" stroke-width=\"1px\" width=\"160.0\" x=\"486.985002624\" y=\"688.560424255\" /><text font-family=\"monospace\" font-size=\"20.0\" text-anchor=\"middle\" transform=\"translate(0,-10.0)\" x=\"566.985002624\" y=\"718.560424255\"><tspan font-family=\"monospace\" font-size=\"20.0\" font-weight=\"bold\" text-anchor=\"middle\" x=\"566.985002624\" y=\"718.560424255\">Node[1]</tspan><tspan font-family=\"monospace\" font-size=\"20.0\" font-weight=\"normal\" text-anchor=\"middle\" x=\"566.985002624\" y=\"748.560424255\">{}</tspan></text></g><g><rect fill=\"none\" height=\"60.0\" rx=\"20.0\" ry=\"20.0\" stroke=\"black\" stroke-width=\"1px\" width=\"160.0\" x=\"39.3979170661\" y=\"637.471695456\" /><text font-family=\"monospace\" font-size=\"20.0\" text-anchor=\"middle\" transform=\"translate(0,-10.0)\" x=\"119.397917066\" y=\"667.471695456\"><tspan font-family=\"monospace\" font-size=\"20.0\" font-weight=\"bold\" text-anchor=\"middle\" x=\"119.397917066\" y=\"667.471695456\">Node[2]</tspan><tspan font-family=\"monospace\" font-size=\"20.0\" font-weight=\"normal\" text-anchor=\"middle\" x=\"119.397917066\" y=\"697.471695456\">{}</tspan></text></g><g><rect fill=\"none\" height=\"60.0\" rx=\"20.0\" ry=\"20.0\" stroke=\"black\" stroke-width=\"1px\" width=\"160.0\" x=\"39.3979170661\" y=\"150.4865989\" /><text font-family=\"monospace\" font-size=\"20.0\" text-anchor=\"middle\" transform=\"translate(0,-10.0)\" x=\"119.397917066\" y=\"180.4865989\"><tspan font-family=\"monospace\" font-size=\"20.0\" font-weight=\"bold\" text-anchor=\"middle\" x=\"119.397917066\" y=\"180.4865989\">Node[3]</tspan><tspan font-family=\"monospace\" font-size=\"20.0\" font-weight=\"normal\" text-anchor=\"middle\" x=\"119.397917066\" y=\"210.4865989\">{}</tspan></text></g><g><rect fill=\"none\" height=\"60.0\" rx=\"20.0\" ry=\"20.0\" stroke=\"black\" stroke-width=\"1px\" width=\"160.0\" x=\"486.985096556\" y=\"39.3979170661\" /><text font-family=\"monospace\" font-size=\"20.0\" text-anchor=\"middle\" transform=\"translate(0,-10.0)\" x=\"566.985096556\" y=\"69.3979170661\"><tspan font-family=\"monospace\" font-size=\"20.0\" font-weight=\"bold\" text-anchor=\"middle\" x=\"566.985096556\" y=\"69.3979170661\">Node[4]</tspan><tspan font-family=\"monospace\" font-size=\"20.0\" font-weight=\"normal\" text-anchor=\"middle\" x=\"566.985096556\" y=\"99.3979170661\">{}</tspan></text></g><g><path d=\"M 668.560424255 453.979170661 Q 643.166568847 512.624484059 617.77271344 571.269797458 Q 592.378858032 629.915110856 566.985002624 688.560424255\" fill=\"none\" stroke=\"black\" stroke-linecap=\"butt\" stroke-width=\"1px\" /><text font-family=\"monospace\" font-size=\"20.0\" text-anchor=\"middle\" transform=\"rotate(293.412969236,617.77271344,571.269797458) translate(0,-10.0)\" x=\"617.77271344\" y=\"571.269797458\"><tspan font-family=\"monospace\" font-size=\"20.0\" font-weight=\"normal\" text-anchor=\"middle\" x=\"617.77271344\" y=\"571.269797458\">Edge[0, 1]:{}</tspan></text></g><g><path d=\"M 588.560424255 423.979170661 Q 491.269797458 484.852301859 393.979170661 545.725433058 Q 296.688543863 606.598564257 199.397917066 667.471695456\" fill=\"none\" stroke=\"black\" stroke-linecap=\"butt\" stroke-width=\"1px\" /><text font-family=\"monospace\" font-size=\"20.0\" text-anchor=\"middle\" transform=\"rotate(327.966467924,393.979170661,545.725433058) translate(0,-10.0)\" x=\"393.979170661\" y=\"545.725433058\"><tspan font-family=\"monospace\" font-size=\"20.0\" font-weight=\"normal\" text-anchor=\"middle\" x=\"393.979170661\" y=\"545.725433058\">Edge[0, 2]:{}</tspan></text></g><g><path d=\"M 588.560424255 423.979170661 Q 491.269797458 363.10602772 393.979170661 302.23288478 Q 296.688543863 241.35974184 199.397917066 180.4865989\" fill=\"none\" stroke=\"black\" stroke-linecap=\"butt\" stroke-width=\"1px\" /><text font-family=\"monospace\" font-size=\"20.0\" text-anchor=\"middle\" transform=\"rotate(32.0335370454,393.979170661,302.23288478) translate(0,-10.0)\" x=\"393.979170661\" y=\"302.23288478\"><tspan font-family=\"monospace\" font-size=\"20.0\" font-weight=\"normal\" text-anchor=\"middle\" x=\"393.979170661\" y=\"302.23288478\">Edge[0, 3]:{}</tspan></text></g><g><path d=\"M 668.560424255 393.979170661 Q 643.16659233 320.333857262 617.772760405 246.688543863 Q 592.378928481 173.043230465 566.985096556 99.3979170661\" fill=\"none\" stroke=\"black\" stroke-linecap=\"butt\" stroke-width=\"1px\" /><text font-family=\"monospace\" font-size=\"20.0\" text-anchor=\"middle\" transform=\"rotate(70.97516141,617.772760405,246.688543863) translate(0,-10.0)\" x=\"617.772760405\" y=\"246.688543863\"><tspan font-family=\"monospace\" font-size=\"20.0\" font-weight=\"normal\" text-anchor=\"middle\" x=\"617.772760405\" y=\"246.688543863\">Edge[0, 4]:{}</tspan></text></g></svg>"
       ],
       "text": [
        "<networkx.classes.graph.Graph at 0x3284710>"
       ]
      }
     ],
     "prompt_number": 30
    },
    {
     "cell_type": "code",
     "collapsed": false,
     "input": [
      "g.to_directed()"
     ],
     "language": "python",
     "metadata": {},
     "outputs": [
      {
       "metadata": {},
       "output_type": "pyout",
       "prompt_number": 31,
       "svg": [
        "<svg baseProfile=\"full\" height=\"600px\" preserveAspectRatio=\"xMidYMid meet\" version=\"1.1\" viewBox=\"0,0,787.958341321,787.958341321\" width=\"600px\" xmlns=\"http://www.w3.org/2000/svg\" xmlns:ev=\"http://www.w3.org/2001/xml-events\" xmlns:xlink=\"http://www.w3.org/1999/xlink\"><defs><marker id=\"id73\" markerHeight=\"20.0\" markerUnits=\"userSpaceOnUse\" markerWidth=\"20.0\" orient=\"auto\" refX=\"10.0\" refY=\"10.0\"><polygon fill=\"black\" points=\"0,4.0 20.0,10.0 0,16.0\" stroke=\"none\" /></marker><marker id=\"id74\" markerHeight=\"20.0\" markerUnits=\"userSpaceOnUse\" markerWidth=\"20.0\" orient=\"auto\" refX=\"10.0\" refY=\"10.0\"><polygon fill=\"black\" points=\"0,4.0 20.0,10.0 0,16.0\" stroke=\"none\" /></marker><marker id=\"id75\" markerHeight=\"20.0\" markerUnits=\"userSpaceOnUse\" markerWidth=\"20.0\" orient=\"auto\" refX=\"10.0\" refY=\"10.0\"><polygon fill=\"black\" points=\"0,4.0 20.0,10.0 0,16.0\" stroke=\"none\" /></marker><marker id=\"id76\" markerHeight=\"20.0\" markerUnits=\"userSpaceOnUse\" markerWidth=\"20.0\" orient=\"auto\" refX=\"10.0\" refY=\"10.0\"><polygon fill=\"black\" points=\"0,4.0 20.0,10.0 0,16.0\" stroke=\"none\" /></marker><marker id=\"id77\" markerHeight=\"20.0\" markerUnits=\"userSpaceOnUse\" markerWidth=\"20.0\" orient=\"auto\" refX=\"10.0\" refY=\"10.0\"><polygon fill=\"black\" points=\"0,4.0 20.0,10.0 0,16.0\" stroke=\"none\" /></marker><marker id=\"id78\" markerHeight=\"20.0\" markerUnits=\"userSpaceOnUse\" markerWidth=\"20.0\" orient=\"auto\" refX=\"10.0\" refY=\"10.0\"><polygon fill=\"black\" points=\"0,4.0 20.0,10.0 0,16.0\" stroke=\"none\" /></marker><marker id=\"id79\" markerHeight=\"20.0\" markerUnits=\"userSpaceOnUse\" markerWidth=\"20.0\" orient=\"auto\" refX=\"10.0\" refY=\"10.0\"><polygon fill=\"black\" points=\"0,4.0 20.0,10.0 0,16.0\" stroke=\"none\" /></marker><marker id=\"id80\" markerHeight=\"20.0\" markerUnits=\"userSpaceOnUse\" markerWidth=\"20.0\" orient=\"auto\" refX=\"10.0\" refY=\"10.0\"><polygon fill=\"black\" points=\"0,4.0 20.0,10.0 0,16.0\" stroke=\"none\" /></marker></defs><g><rect fill=\"none\" height=\"60.0\" rx=\"20.0\" ry=\"20.0\" stroke=\"black\" stroke-width=\"1px\" width=\"160.0\" x=\"588.560424255\" y=\"393.979170661\" /><text font-family=\"monospace\" font-size=\"20.0\" text-anchor=\"middle\" transform=\"translate(0,-10.0)\" x=\"668.560424255\" y=\"423.979170661\"><tspan font-family=\"monospace\" font-size=\"20.0\" font-weight=\"bold\" text-anchor=\"middle\" x=\"668.560424255\" y=\"423.979170661\">Node[0]</tspan><tspan font-family=\"monospace\" font-size=\"20.0\" font-weight=\"normal\" text-anchor=\"middle\" x=\"668.560424255\" y=\"453.979170661\">{}</tspan></text></g><g><rect fill=\"none\" height=\"60.0\" rx=\"20.0\" ry=\"20.0\" stroke=\"black\" stroke-width=\"1px\" width=\"160.0\" x=\"486.985002624\" y=\"688.560424255\" /><text font-family=\"monospace\" font-size=\"20.0\" text-anchor=\"middle\" transform=\"translate(0,-10.0)\" x=\"566.985002624\" y=\"718.560424255\"><tspan font-family=\"monospace\" font-size=\"20.0\" font-weight=\"bold\" text-anchor=\"middle\" x=\"566.985002624\" y=\"718.560424255\">Node[1]</tspan><tspan font-family=\"monospace\" font-size=\"20.0\" font-weight=\"normal\" text-anchor=\"middle\" x=\"566.985002624\" y=\"748.560424255\">{}</tspan></text></g><g><rect fill=\"none\" height=\"60.0\" rx=\"20.0\" ry=\"20.0\" stroke=\"black\" stroke-width=\"1px\" width=\"160.0\" x=\"39.3979170661\" y=\"637.471695456\" /><text font-family=\"monospace\" font-size=\"20.0\" text-anchor=\"middle\" transform=\"translate(0,-10.0)\" x=\"119.397917066\" y=\"667.471695456\"><tspan font-family=\"monospace\" font-size=\"20.0\" font-weight=\"bold\" text-anchor=\"middle\" x=\"119.397917066\" y=\"667.471695456\">Node[2]</tspan><tspan font-family=\"monospace\" font-size=\"20.0\" font-weight=\"normal\" text-anchor=\"middle\" x=\"119.397917066\" y=\"697.471695456\">{}</tspan></text></g><g><rect fill=\"none\" height=\"60.0\" rx=\"20.0\" ry=\"20.0\" stroke=\"black\" stroke-width=\"1px\" width=\"160.0\" x=\"39.3979170661\" y=\"150.4865989\" /><text font-family=\"monospace\" font-size=\"20.0\" text-anchor=\"middle\" transform=\"translate(0,-10.0)\" x=\"119.397917066\" y=\"180.4865989\"><tspan font-family=\"monospace\" font-size=\"20.0\" font-weight=\"bold\" text-anchor=\"middle\" x=\"119.397917066\" y=\"180.4865989\">Node[3]</tspan><tspan font-family=\"monospace\" font-size=\"20.0\" font-weight=\"normal\" text-anchor=\"middle\" x=\"119.397917066\" y=\"210.4865989\">{}</tspan></text></g><g><rect fill=\"none\" height=\"60.0\" rx=\"20.0\" ry=\"20.0\" stroke=\"black\" stroke-width=\"1px\" width=\"160.0\" x=\"486.985096556\" y=\"39.3979170661\" /><text font-family=\"monospace\" font-size=\"20.0\" text-anchor=\"middle\" transform=\"translate(0,-10.0)\" x=\"566.985096556\" y=\"69.3979170661\"><tspan font-family=\"monospace\" font-size=\"20.0\" font-weight=\"bold\" text-anchor=\"middle\" x=\"566.985096556\" y=\"69.3979170661\">Node[4]</tspan><tspan font-family=\"monospace\" font-size=\"20.0\" font-weight=\"normal\" text-anchor=\"middle\" x=\"566.985096556\" y=\"99.3979170661\">{}</tspan></text></g><g><path d=\"M 668.560424255 453.979170661 Q 679.873157064 528.518708843 654.479301656 587.164022242 Q 629.085446248 645.80933564 566.985002624 688.560424255\" fill=\"none\" marker-mid=\"url(#id73)\" stroke=\"black\" stroke-linecap=\"butt\" stroke-width=\"1px\" /><text font-family=\"monospace\" font-size=\"20.0\" text-anchor=\"middle\" transform=\"rotate(293.412969236,654.479301656,587.164022242) translate(0,-10.0)\" x=\"654.479301656\" y=\"587.164022242\"><tspan font-family=\"monospace\" font-size=\"20.0\" font-weight=\"normal\" text-anchor=\"middle\" x=\"654.479301656\" y=\"587.164022242\">Edge[0, 1]:{}</tspan></text></g><g><path d=\"M 588.560424255 423.979170661 Q 512.486417037 518.76181459 415.195790239 579.634945789 Q 317.905163442 640.508076988 199.397917066 667.471695456\" fill=\"none\" marker-mid=\"url(#id74)\" stroke=\"black\" stroke-linecap=\"butt\" stroke-width=\"1px\" /><text font-family=\"monospace\" font-size=\"20.0\" text-anchor=\"middle\" transform=\"rotate(327.966467924,415.195790239,579.634945789) translate(0,-10.0)\" x=\"415.195790239\" y=\"579.634945789\"><tspan font-family=\"monospace\" font-size=\"20.0\" font-weight=\"normal\" text-anchor=\"middle\" x=\"415.195790239\" y=\"579.634945789\">Edge[0, 2]:{}</tspan></text></g><g><path d=\"M 588.560424255 423.979170661 Q 470.053174938 397.015538611 372.762548141 336.142395671 Q 275.471921343 275.269252731 199.397917066 180.4865989\" fill=\"none\" marker-mid=\"url(#id75)\" stroke=\"black\" stroke-linecap=\"butt\" stroke-width=\"1px\" /><text font-family=\"monospace\" font-size=\"20.0\" text-anchor=\"middle\" transform=\"rotate(32.0335370454,372.762548141,336.142395671) translate(0,-10.0)\" x=\"372.762548141\" y=\"336.142395671\"><tspan font-family=\"monospace\" font-size=\"20.0\" font-weight=\"normal\" text-anchor=\"middle\" x=\"372.762548141\" y=\"336.142395671\">Edge[0, 3]:{}</tspan></text></g><g><path d=\"M 668.560424255 393.979170661 Q 605.35149841 333.372978082 579.957666485 259.727664683 Q 554.56383456 186.082351285 566.985096556 99.3979170661\" fill=\"none\" marker-mid=\"url(#id76)\" stroke=\"black\" stroke-linecap=\"butt\" stroke-width=\"1px\" /><text font-family=\"monospace\" font-size=\"20.0\" text-anchor=\"middle\" transform=\"rotate(70.97516141,579.957666485,259.727664683) translate(0,-10.0)\" x=\"579.957666485\" y=\"259.727664683\"><tspan font-family=\"monospace\" font-size=\"20.0\" font-weight=\"normal\" text-anchor=\"middle\" x=\"579.957666485\" y=\"259.727664683\">Edge[0, 4]:{}</tspan></text></g><g><path d=\"M 566.985002624 688.560424255 Q 555.672269815 614.020886072 581.066125223 555.375572674 Q 606.459980631 496.730259275 668.560424255 453.979170661\" fill=\"none\" marker-mid=\"url(#id77)\" stroke=\"black\" stroke-linecap=\"butt\" stroke-width=\"1px\" /><text font-family=\"monospace\" font-size=\"20.0\" text-anchor=\"middle\" transform=\"rotate(113.412969236,581.066125223,555.375572674) translate(0,-10.0)\" x=\"581.066125223\" y=\"555.375572674\"><tspan font-family=\"monospace\" font-size=\"20.0\" font-weight=\"normal\" text-anchor=\"middle\" x=\"581.066125223\" y=\"555.375572674\">Edge[1, 0]:{}</tspan></text></g><g><path d=\"M 199.397917066 667.471695456 Q 275.471924284 572.689051526 372.762551082 511.815920327 Q 470.053177879 450.942789128 588.560424255 423.979170661\" fill=\"none\" marker-mid=\"url(#id78)\" stroke=\"black\" stroke-linecap=\"butt\" stroke-width=\"1px\" /><text font-family=\"monospace\" font-size=\"20.0\" text-anchor=\"middle\" transform=\"rotate(147.966467924,372.762551082,511.815920327) translate(0,-10.0)\" x=\"372.762551082\" y=\"511.815920327\"><tspan font-family=\"monospace\" font-size=\"20.0\" font-weight=\"normal\" text-anchor=\"middle\" x=\"372.762551082\" y=\"511.815920327\">Edge[2, 0]:{}</tspan></text></g><g><path d=\"M 199.397917066 180.4865989 Q 317.905166383 207.450230949 415.19579318 268.323373889 Q 512.486419978 329.19651683 588.560424255 423.979170661\" fill=\"none\" marker-mid=\"url(#id79)\" stroke=\"black\" stroke-linecap=\"butt\" stroke-width=\"1px\" /><text font-family=\"monospace\" font-size=\"20.0\" text-anchor=\"middle\" transform=\"rotate(212.033537045,415.19579318,268.323373889) translate(0,-10.0)\" x=\"415.19579318\" y=\"268.323373889\"><tspan font-family=\"monospace\" font-size=\"20.0\" font-weight=\"normal\" text-anchor=\"middle\" x=\"415.19579318\" y=\"268.323373889\">Edge[3, 0]:{}</tspan></text></g><g><path d=\"M 566.985096556 99.3979170661 Q 630.194022401 160.004109645 655.587854326 233.649423043 Q 680.981686251 307.294736442 668.560424255 393.979170661\" fill=\"none\" marker-mid=\"url(#id80)\" stroke=\"black\" stroke-linecap=\"butt\" stroke-width=\"1px\" /><text font-family=\"monospace\" font-size=\"20.0\" text-anchor=\"middle\" transform=\"rotate(250.97516141,655.587854326,233.649423043) translate(0,-10.0)\" x=\"655.587854326\" y=\"233.649423043\"><tspan font-family=\"monospace\" font-size=\"20.0\" font-weight=\"normal\" text-anchor=\"middle\" x=\"655.587854326\" y=\"233.649423043\">Edge[4, 0]:{}</tspan></text></g></svg>"
       ],
       "text": [
        "<networkx.classes.digraph.DiGraph at 0x3037bd0>"
       ]
      }
     ],
     "prompt_number": 31
    },
    {
     "cell_type": "code",
     "collapsed": false,
     "input": [
      "def NodeFormatter(node, data):\n",
      "    return \"\\aNode %d\" % node, {'stroke': ['red', 'green', 'blue', 'yellow', 'purple'][node]}\n",
      "def EdgeFormatter(u, v, data):\n",
      "    return \"Edge (%d %d)\" % (u, v), {'stroke': ['red', 'green', 'blue', 'yellow', 'purple'][u]}"
     ],
     "language": "python",
     "metadata": {},
     "outputs": [],
     "prompt_number": 36
    },
    {
     "cell_type": "code",
     "collapsed": false,
     "input": [
      "from IPython.display import SVG\n",
      "rend = nxsvg.SVGRenderer(GlobalScale=1000.)"
     ],
     "language": "python",
     "metadata": {},
     "outputs": [],
     "prompt_number": 26
    },
    {
     "cell_type": "code",
     "collapsed": false,
     "input": [
      "SVG(rend.draw(g, nodeformatter=NodeFormatter, edgeformatter=EdgeFormatter, size=('400px', '400px')))"
     ],
     "language": "python",
     "metadata": {},
     "outputs": [
      {
       "metadata": {},
       "output_type": "pyout",
       "prompt_number": 37,
       "svg": [
        "<svg baseProfile=\"full\" height=\"400px\" preserveAspectRatio=\"xMidYMid meet\" version=\"1.1\" viewBox=\"0,0,1000.0,1000.0\" width=\"400px\" xmlns=\"http://www.w3.org/2000/svg\" xmlns:ev=\"http://www.w3.org/2001/xml-events\" xmlns:xlink=\"http://www.w3.org/1999/xlink\"><defs/><g><rect fill=\"none\" height=\"30.0\" rx=\"20.0\" ry=\"20.0\" stroke=\"red\" stroke-width=\"1px\" width=\"140.0\" x=\"850.0\" y=\"500.0\"/><text font-family=\"monospace\" font-size=\"20.0\" text-anchor=\"middle\" transform=\"translate(0,-10.0)\" x=\"920.0\" y=\"530.0\"><tspan font-family=\"monospace\" font-size=\"20.0\" font-weight=\"bold\" text-anchor=\"middle\" x=\"920.0\" y=\"530.0\">Node 0</tspan></text></g><g><rect fill=\"none\" height=\"30.0\" rx=\"20.0\" ry=\"20.0\" stroke=\"green\" stroke-width=\"1px\" width=\"140.0\" x=\"618.03394556\" y=\"960.0\"/><text font-family=\"monospace\" font-size=\"20.0\" text-anchor=\"middle\" transform=\"translate(0,-10.0)\" x=\"688.03394556\" y=\"990.0\"><tspan font-family=\"monospace\" font-size=\"20.0\" font-weight=\"bold\" text-anchor=\"middle\" x=\"688.03394556\" y=\"990.0\">Node 1</tspan></text></g><g><rect fill=\"none\" height=\"30.0\" rx=\"20.0\" ry=\"20.0\" stroke=\"blue\" stroke-width=\"1px\" width=\"140.0\" x=\"10.0\" y=\"809.017002583\"/><text font-family=\"monospace\" font-size=\"20.0\" text-anchor=\"middle\" transform=\"translate(0,-10.0)\" x=\"80.0\" y=\"839.017002583\"><tspan font-family=\"monospace\" font-size=\"20.0\" font-weight=\"bold\" text-anchor=\"middle\" x=\"80.0\" y=\"839.017002583\">Node 2</tspan></text></g><g><rect fill=\"none\" height=\"30.0\" rx=\"20.0\" ry=\"20.0\" stroke=\"yellow\" stroke-width=\"1px\" width=\"140.0\" x=\"10.0\" y=\"190.982937813\"/><text font-family=\"monospace\" font-size=\"20.0\" text-anchor=\"middle\" transform=\"translate(0,-10.0)\" x=\"80.0\" y=\"220.982937813\"><tspan font-family=\"monospace\" font-size=\"20.0\" font-weight=\"bold\" text-anchor=\"middle\" x=\"80.0\" y=\"220.982937813\">Node 3</tspan></text></g><g><rect fill=\"none\" height=\"30.0\" rx=\"20.0\" ry=\"20.0\" stroke=\"purple\" stroke-width=\"1px\" width=\"140.0\" x=\"618.03406477\" y=\"10.0\"/><text font-family=\"monospace\" font-size=\"20.0\" text-anchor=\"middle\" transform=\"translate(0,-10.0)\" x=\"688.03406477\" y=\"40.0\"><tspan font-family=\"monospace\" font-size=\"20.0\" font-weight=\"bold\" text-anchor=\"middle\" x=\"688.03406477\" y=\"40.0\">Node 4</tspan></text></g><g><path d=\"M 920.0 530.0 Q 862.00848639 637.5 804.01697278 745.0 Q 746.02545917 852.5 688.03394556 960.0\" fill=\"none\" stroke=\"red\" stroke-linecap=\"butt\" stroke-width=\"1px\"/><text font-family=\"monospace\" font-size=\"20.0\" text-anchor=\"middle\" transform=\"rotate(298.344906157,804.01697278,745.0) translate(0,-10.0)\" x=\"804.01697278\" y=\"745.0\"><tspan font-family=\"monospace\" font-size=\"20.0\" font-weight=\"normal\" text-anchor=\"middle\" x=\"804.01697278\" y=\"745.0\">Edge (0 1)</tspan></text></g><g><path d=\"M 850.0 515.0 Q 675.0 592.254250646 500.0 669.508501291 Q 325.0 746.762751937 150.0 824.017002583\" fill=\"none\" stroke=\"red\" stroke-linecap=\"butt\" stroke-width=\"1px\"/><text font-family=\"monospace\" font-size=\"20.0\" text-anchor=\"middle\" transform=\"rotate(336.180801926,500.0,669.508501291) translate(0,-10.0)\" x=\"500.0\" y=\"669.508501291\"><tspan font-family=\"monospace\" font-size=\"20.0\" font-weight=\"normal\" text-anchor=\"middle\" x=\"500.0\" y=\"669.508501291\">Edge (0 2)</tspan></text></g><g><path d=\"M 850.0 515.0 Q 675.0 437.745734453 500.0 360.491468906 Q 325.0 283.23720336 150.0 205.982937813\" fill=\"none\" stroke=\"red\" stroke-linecap=\"butt\" stroke-width=\"1px\"/><text font-family=\"monospace\" font-size=\"20.0\" text-anchor=\"middle\" transform=\"rotate(23.8192021568,500.0,360.491468906) translate(0,-10.0)\" x=\"500.0\" y=\"360.491468906\"><tspan font-family=\"monospace\" font-size=\"20.0\" font-weight=\"normal\" text-anchor=\"middle\" x=\"500.0\" y=\"360.491468906\">Edge (0 3)</tspan></text></g><g><path d=\"M 920.0 500.0 Q 862.008516192 385.0 804.017032385 270.0 Q 746.025548577 155.0 688.03406477 40.0\" fill=\"none\" stroke=\"red\" stroke-linecap=\"butt\" stroke-width=\"1px\"/><text font-family=\"monospace\" font-size=\"20.0\" text-anchor=\"middle\" transform=\"rotate(63.239388606,804.017032385,270.0) translate(0,-10.0)\" x=\"804.017032385\" y=\"270.0\"><tspan font-family=\"monospace\" font-size=\"20.0\" font-weight=\"normal\" text-anchor=\"middle\" x=\"804.017032385\" y=\"270.0\">Edge (0 4)</tspan></text></g></svg>"
       ],
       "text": [
        "<IPython.core.display.SVG at 0x327ebd0>"
       ]
      }
     ],
     "prompt_number": 37
    },
    {
     "cell_type": "code",
     "collapsed": false,
     "input": [
      "SVG(rend.draw(g.to_directed(), nodeformatter=NodeFormatter, edgeformatter=EdgeFormatter, size=('400px', '400px')))"
     ],
     "language": "python",
     "metadata": {},
     "outputs": [
      {
       "metadata": {},
       "output_type": "pyout",
       "prompt_number": 38,
       "svg": [
        "<svg baseProfile=\"full\" height=\"400px\" preserveAspectRatio=\"xMidYMid meet\" version=\"1.1\" viewBox=\"0,0,1000.0,1000.0\" width=\"400px\" xmlns=\"http://www.w3.org/2000/svg\" xmlns:ev=\"http://www.w3.org/2001/xml-events\" xmlns:xlink=\"http://www.w3.org/1999/xlink\"><defs><marker id=\"id89\" markerHeight=\"20.0\" markerUnits=\"userSpaceOnUse\" markerWidth=\"20.0\" orient=\"auto\" refX=\"10.0\" refY=\"10.0\"><polygon fill=\"red\" points=\"0,4.0 20.0,10.0 0,16.0\" stroke=\"none\"/></marker><marker id=\"id90\" markerHeight=\"20.0\" markerUnits=\"userSpaceOnUse\" markerWidth=\"20.0\" orient=\"auto\" refX=\"10.0\" refY=\"10.0\"><polygon fill=\"red\" points=\"0,4.0 20.0,10.0 0,16.0\" stroke=\"none\"/></marker><marker id=\"id91\" markerHeight=\"20.0\" markerUnits=\"userSpaceOnUse\" markerWidth=\"20.0\" orient=\"auto\" refX=\"10.0\" refY=\"10.0\"><polygon fill=\"red\" points=\"0,4.0 20.0,10.0 0,16.0\" stroke=\"none\"/></marker><marker id=\"id92\" markerHeight=\"20.0\" markerUnits=\"userSpaceOnUse\" markerWidth=\"20.0\" orient=\"auto\" refX=\"10.0\" refY=\"10.0\"><polygon fill=\"red\" points=\"0,4.0 20.0,10.0 0,16.0\" stroke=\"none\"/></marker><marker id=\"id93\" markerHeight=\"20.0\" markerUnits=\"userSpaceOnUse\" markerWidth=\"20.0\" orient=\"auto\" refX=\"10.0\" refY=\"10.0\"><polygon fill=\"green\" points=\"0,4.0 20.0,10.0 0,16.0\" stroke=\"none\"/></marker><marker id=\"id94\" markerHeight=\"20.0\" markerUnits=\"userSpaceOnUse\" markerWidth=\"20.0\" orient=\"auto\" refX=\"10.0\" refY=\"10.0\"><polygon fill=\"blue\" points=\"0,4.0 20.0,10.0 0,16.0\" stroke=\"none\"/></marker><marker id=\"id95\" markerHeight=\"20.0\" markerUnits=\"userSpaceOnUse\" markerWidth=\"20.0\" orient=\"auto\" refX=\"10.0\" refY=\"10.0\"><polygon fill=\"yellow\" points=\"0,4.0 20.0,10.0 0,16.0\" stroke=\"none\"/></marker><marker id=\"id96\" markerHeight=\"20.0\" markerUnits=\"userSpaceOnUse\" markerWidth=\"20.0\" orient=\"auto\" refX=\"10.0\" refY=\"10.0\"><polygon fill=\"purple\" points=\"0,4.0 20.0,10.0 0,16.0\" stroke=\"none\"/></marker></defs><g><rect fill=\"none\" height=\"30.0\" rx=\"20.0\" ry=\"20.0\" stroke=\"red\" stroke-width=\"1px\" width=\"140.0\" x=\"850.0\" y=\"500.0\"/><text font-family=\"monospace\" font-size=\"20.0\" text-anchor=\"middle\" transform=\"translate(0,-10.0)\" x=\"920.0\" y=\"530.0\"><tspan font-family=\"monospace\" font-size=\"20.0\" font-weight=\"bold\" text-anchor=\"middle\" x=\"920.0\" y=\"530.0\">Node 0</tspan></text></g><g><rect fill=\"none\" height=\"30.0\" rx=\"20.0\" ry=\"20.0\" stroke=\"green\" stroke-width=\"1px\" width=\"140.0\" x=\"618.03394556\" y=\"960.0\"/><text font-family=\"monospace\" font-size=\"20.0\" text-anchor=\"middle\" transform=\"translate(0,-10.0)\" x=\"688.03394556\" y=\"990.0\"><tspan font-family=\"monospace\" font-size=\"20.0\" font-weight=\"bold\" text-anchor=\"middle\" x=\"688.03394556\" y=\"990.0\">Node 1</tspan></text></g><g><rect fill=\"none\" height=\"30.0\" rx=\"20.0\" ry=\"20.0\" stroke=\"blue\" stroke-width=\"1px\" width=\"140.0\" x=\"10.0\" y=\"809.017002583\"/><text font-family=\"monospace\" font-size=\"20.0\" text-anchor=\"middle\" transform=\"translate(0,-10.0)\" x=\"80.0\" y=\"839.017002583\"><tspan font-family=\"monospace\" font-size=\"20.0\" font-weight=\"bold\" text-anchor=\"middle\" x=\"80.0\" y=\"839.017002583\">Node 2</tspan></text></g><g><rect fill=\"none\" height=\"30.0\" rx=\"20.0\" ry=\"20.0\" stroke=\"yellow\" stroke-width=\"1px\" width=\"140.0\" x=\"10.0\" y=\"190.982937813\"/><text font-family=\"monospace\" font-size=\"20.0\" text-anchor=\"middle\" transform=\"translate(0,-10.0)\" x=\"80.0\" y=\"220.982937813\"><tspan font-family=\"monospace\" font-size=\"20.0\" font-weight=\"bold\" text-anchor=\"middle\" x=\"80.0\" y=\"220.982937813\">Node 3</tspan></text></g><g><rect fill=\"none\" height=\"30.0\" rx=\"20.0\" ry=\"20.0\" stroke=\"purple\" stroke-width=\"1px\" width=\"140.0\" x=\"618.03406477\" y=\"10.0\"/><text font-family=\"monospace\" font-size=\"20.0\" text-anchor=\"middle\" transform=\"translate(0,-10.0)\" x=\"688.03406477\" y=\"40.0\"><tspan font-family=\"monospace\" font-size=\"20.0\" font-weight=\"bold\" text-anchor=\"middle\" x=\"688.03406477\" y=\"40.0\">Node 4</tspan></text></g><g><path d=\"M 920.0 530.0 Q 897.212706854 656.491125862 839.221193244 763.991125862 Q 781.229679635 871.491125862 688.03394556 960.0\" fill=\"none\" marker-mid=\"url(#id89)\" stroke=\"red\" stroke-linecap=\"butt\" stroke-width=\"1px\"/><text font-family=\"monospace\" font-size=\"20.0\" text-anchor=\"middle\" transform=\"rotate(298.344906157,839.221193244,763.991125862) translate(0,-10.0)\" x=\"839.221193244\" y=\"763.991125862\"><tspan font-family=\"monospace\" font-size=\"20.0\" font-weight=\"normal\" text-anchor=\"middle\" x=\"839.221193244\" y=\"763.991125862\">Edge (0 1)</tspan></text></g><g><path d=\"M 850.0 515.0 Q 691.154073954 628.847226675 516.154073954 706.10147732 Q 341.154073954 783.355727966 150.0 824.017002583\" fill=\"none\" marker-mid=\"url(#id90)\" stroke=\"red\" stroke-linecap=\"butt\" stroke-width=\"1px\"/><text font-family=\"monospace\" font-size=\"20.0\" text-anchor=\"middle\" transform=\"rotate(336.180801926,516.154073954,706.10147732) translate(0,-10.0)\" x=\"516.154073954\" y=\"706.10147732\"><tspan font-family=\"monospace\" font-size=\"20.0\" font-weight=\"normal\" text-anchor=\"middle\" x=\"516.154073954\" y=\"706.10147732\">Edge (0 2)</tspan></text></g><g><path d=\"M 850.0 515.0 Q 658.845923438 474.338709331 483.845923438 397.084443784 Q 308.845923438 319.830178238 150.0 205.982937813\" fill=\"none\" marker-mid=\"url(#id91)\" stroke=\"red\" stroke-linecap=\"butt\" stroke-width=\"1px\"/><text font-family=\"monospace\" font-size=\"20.0\" text-anchor=\"middle\" transform=\"rotate(23.8192021568,483.845923438,397.084443784) translate(0,-10.0)\" x=\"483.845923438\" y=\"397.084443784\"><tspan font-family=\"monospace\" font-size=\"20.0\" font-weight=\"normal\" text-anchor=\"middle\" x=\"483.845923438\" y=\"397.084443784\">Edge (0 3)</tspan></text></g><g><path d=\"M 920.0 500.0 Q 826.292693466 403.010552655 768.301209658 288.010552655 Q 710.30972585 173.010552655 688.03406477 40.0\" fill=\"none\" marker-mid=\"url(#id92)\" stroke=\"red\" stroke-linecap=\"butt\" stroke-width=\"1px\"/><text font-family=\"monospace\" font-size=\"20.0\" text-anchor=\"middle\" transform=\"rotate(63.239388606,768.301209658,288.010552655) translate(0,-10.0)\" x=\"768.301209658\" y=\"288.010552655\"><tspan font-family=\"monospace\" font-size=\"20.0\" font-weight=\"normal\" text-anchor=\"middle\" x=\"768.301209658\" y=\"288.010552655\">Edge (0 4)</tspan></text></g><g><path d=\"M 688.03394556 960.0 Q 710.821238706 833.508874138 768.812752316 726.008874138 Q 826.804265926 618.508874138 920.0 530.0\" fill=\"none\" marker-mid=\"url(#id93)\" stroke=\"green\" stroke-linecap=\"butt\" stroke-width=\"1px\"/><text font-family=\"monospace\" font-size=\"20.0\" text-anchor=\"middle\" transform=\"rotate(118.344906157,768.812752316,726.008874138) translate(0,-10.0)\" x=\"768.812752316\" y=\"726.008874138\"><tspan font-family=\"monospace\" font-size=\"20.0\" font-weight=\"normal\" text-anchor=\"middle\" x=\"768.812752316\" y=\"726.008874138\">Edge (1 0)</tspan></text></g><g><path d=\"M 150.0 824.017002583 Q 308.845926046 710.169775908 483.845926046 632.915525262 Q 658.845926046 555.661274616 850.0 515.0\" fill=\"none\" marker-mid=\"url(#id94)\" stroke=\"blue\" stroke-linecap=\"butt\" stroke-width=\"1px\"/><text font-family=\"monospace\" font-size=\"20.0\" text-anchor=\"middle\" transform=\"rotate(156.180801926,483.845926046,632.915525262) translate(0,-10.0)\" x=\"483.845926046\" y=\"632.915525262\"><tspan font-family=\"monospace\" font-size=\"20.0\" font-weight=\"normal\" text-anchor=\"middle\" x=\"483.845926046\" y=\"632.915525262\">Edge (2 0)</tspan></text></g><g><path d=\"M 150.0 205.982937813 Q 341.154076562 246.644228482 516.154076562 323.898494028 Q 691.154076562 401.152759575 850.0 515.0\" fill=\"none\" marker-mid=\"url(#id95)\" stroke=\"yellow\" stroke-linecap=\"butt\" stroke-width=\"1px\"/><text font-family=\"monospace\" font-size=\"20.0\" text-anchor=\"middle\" transform=\"rotate(203.819202157,516.154076562,323.898494028) translate(0,-10.0)\" x=\"516.154076562\" y=\"323.898494028\"><tspan font-family=\"monospace\" font-size=\"20.0\" font-weight=\"normal\" text-anchor=\"middle\" x=\"516.154076562\" y=\"323.898494028\">Edge (3 0)</tspan></text></g><g><path d=\"M 688.03406477 40.0 Q 781.741371304 136.989447345 839.732855112 251.989447345 Q 897.724338919 366.989447345 920.0 500.0\" fill=\"none\" marker-mid=\"url(#id96)\" stroke=\"purple\" stroke-linecap=\"butt\" stroke-width=\"1px\"/><text font-family=\"monospace\" font-size=\"20.0\" text-anchor=\"middle\" transform=\"rotate(243.239388606,839.732855112,251.989447345) translate(0,-10.0)\" x=\"839.732855112\" y=\"251.989447345\"><tspan font-family=\"monospace\" font-size=\"20.0\" font-weight=\"normal\" text-anchor=\"middle\" x=\"839.732855112\" y=\"251.989447345\">Edge (4 0)</tspan></text></g></svg>"
       ],
       "text": [
        "<IPython.core.display.SVG at 0x3377f50>"
       ]
      }
     ],
     "prompt_number": 38
    },
    {
     "cell_type": "code",
     "collapsed": false,
     "input": [],
     "language": "python",
     "metadata": {},
     "outputs": []
    }
   ],
   "metadata": {}
  }
 ]
}